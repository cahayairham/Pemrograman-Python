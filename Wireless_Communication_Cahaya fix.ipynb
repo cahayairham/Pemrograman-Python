{
  "nbformat": 4,
  "nbformat_minor": 0,
  "metadata": {
    "colab": {
      "name": "Wireless Communication Cahaya.ipynb",
      "provenance": [],
      "collapsed_sections": [],
      "include_colab_link": true
    },
    "kernelspec": {
      "name": "python3",
      "display_name": "Python 3"
    }
  },
  "cells": [
    {
      "cell_type": "markdown",
      "metadata": {
        "id": "view-in-github",
        "colab_type": "text"
      },
      "source": [
        "<a href=\"https://colab.research.google.com/github/cahayairham/Pemrograman-Python/blob/main/Wireless_Communication_Cahaya%20fix.ipynb\" target=\"_parent\"><img src=\"https://colab.research.google.com/assets/colab-badge.svg\" alt=\"Open In Colab\"/></a>"
      ]
    },
    {
      "cell_type": "code",
      "metadata": {
        "colab": {
          "base_uri": "https://localhost:8080/"
        },
        "id": "0InODgpmLf8w",
        "outputId": "c17dedbe-2a1e-468a-ab1e-f227a782ba81"
      },
      "source": [
        "#program utamaaaa\r\n",
        "d = int(input(\"Masukkan jarak dalam kilometer: \"))\r\n",
        "fc = int(input(\"Masukkan frekuensi 400 MHz-2000 MHz: \"))\r\n",
        "area = input(\"Masukkan tipe area: \")\r\n",
        "ht = int(input(\"Masukkan tinggi antena pemancar 30-200 meter: \"))\r\n",
        "hr = int(input(\"Masukkan tinggi antena penerima 1-30 meter: \"))"
      ],
      "execution_count": 1,
      "outputs": [
        {
          "output_type": "stream",
          "text": [
            "Masukkan jarak dalam kilometer: 1000\n",
            "Masukkan frekuensi 400 MHz-2000 MHz: 1150\n",
            "Masukkan tipe area: suburban\n",
            "Masukkan tinggi antena pemancar 30-200 meter: 150\n",
            "Masukkan tinggi antena penerima 1-30 meter: 24\n"
          ],
          "name": "stdout"
        }
      ]
    },
    {
      "cell_type": "code",
      "metadata": {
        "id": "cArqS-NGmIQG"
      },
      "source": [
        "import numpy as np\r\n",
        "NtL = lambda x: 10*np.log10(x)\r\n",
        "LtN = lambda x: 10**(x/10)"
      ],
      "execution_count": 2,
      "outputs": []
    },
    {
      "cell_type": "code",
      "metadata": {
        "id": "_BOARhn-E8qz"
      },
      "source": [
        "def cesatu (frek):\r\n",
        "  if frek in range (400,1500):\r\n",
        "    return 69.55\r\n",
        "\r\n",
        "  elif frek in range (1500,2000):\r\n",
        "    return 46.3"
      ],
      "execution_count": 3,
      "outputs": []
    },
    {
      "cell_type": "code",
      "metadata": {
        "id": "M9UJjMBIGJmd"
      },
      "source": [
        "def cedua (frek):\r\n",
        "  if frek in range (400,1500):\r\n",
        "    return 26.16\r\n",
        "\r\n",
        "  elif frek in range (1500,2000):\r\n",
        "    return 33.9"
      ],
      "execution_count": 4,
      "outputs": []
    },
    {
      "cell_type": "code",
      "metadata": {
        "id": "9ngMqZhrJ0ZI"
      },
      "source": [
        "def ceem (area,fc):\r\n",
        "  if area ==  \"urban\":\r\n",
        "    return 0\r\n",
        "  if area == \"suburban\":\r\n",
        "    return -2*(np.log10(fc/28)**2 - 5.4)\r\n",
        "  if area == \"open\":\r\n",
        "    return -4.78*(np.log10(fc))**2 + 18.33*np.log10(fc) - 40.94    "
      ],
      "execution_count": 5,
      "outputs": []
    },
    {
      "cell_type": "code",
      "metadata": {
        "id": "oTKdXvWEH6oj"
      },
      "source": [
        "def ahaer(frek):\r\n",
        "  return (1.1*np.log10(frek)-0.7)*hr - (1.56*np.log10(frek)-0.8)"
      ],
      "execution_count": 6,
      "outputs": []
    },
    {
      "cell_type": "code",
      "metadata": {
        "id": "_RWlosFdLhlO",
        "colab": {
          "base_uri": "https://localhost:8080/"
        },
        "outputId": "ec6ca012-f471-4a8a-859f-4f402201513c"
      },
      "source": [
        "c1 = cesatu(fc)\n",
        "c2 = cedua(fc)\n",
        "cm = ceem(area,fc)\n",
        "ahr = ahaer(fc)\n",
        "\n",
        "print(c1)\n",
        "print(c2)\n",
        "print(cm)\n",
        "print(ahr)"
      ],
      "execution_count": 7,
      "outputs": [
        {
          "output_type": "stream",
          "text": [
            "69.55\n",
            "26.16\n",
            "5.59297856947096\n",
            "60.027734354383725\n"
          ],
          "name": "stdout"
        }
      ]
    },
    {
      "cell_type": "code",
      "metadata": {
        "id": "FFz35B8PjlU_"
      },
      "source": [
        "pldb = c1 + c2*np.log10(fc) - 13.83*np.log10(ht) - ahr + (44.9-6.55*np.log10(ht))*np.log10(d) + cm"
      ],
      "execution_count": 8,
      "outputs": []
    },
    {
      "cell_type": "code",
      "metadata": {
        "id": "egUuNZfoitbW",
        "outputId": "5acce062-3368-4e94-df57-23ec349fb2df",
        "colab": {
          "base_uri": "https://localhost:8080/"
        }
      },
      "source": [
        "print(\"Pathloss adalah: \" , pldb , \" db\")"
      ],
      "execution_count": 9,
      "outputs": [
        {
          "output_type": "stream",
          "text": [
            "Pathloss adalah:  157.02756436555353  db\n"
          ],
          "name": "stdout"
        }
      ]
    }
  ]
}