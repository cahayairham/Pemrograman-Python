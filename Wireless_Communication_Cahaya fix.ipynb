{
  "nbformat": 4,
  "nbformat_minor": 0,
  "metadata": {
    "colab": {
      "name": "Wireless Communication Cahaya.ipynb",
      "provenance": [],
      "collapsed_sections": [],
      "include_colab_link": true
    },
    "kernelspec": {
      "name": "python3",
      "display_name": "Python 3"
    }
  },
  "cells": [
    {
      "cell_type": "markdown",
      "metadata": {
        "id": "view-in-github",
        "colab_type": "text"
      },
      "source": [
        "<a href=\"https://colab.research.google.com/github/cahayairham/Pemrograman-Python/blob/main/Wireless_Communication_Cahaya%20fix.ipynb\" target=\"_parent\"><img src=\"https://colab.research.google.com/assets/colab-badge.svg\" alt=\"Open In Colab\"/></a>"
      ]
    },
    {
      "cell_type": "markdown",
      "metadata": {
        "id": "HsaVoHtTS8wR"
      },
      "source": [
        "Cahaya Irham Wirawan TT-43-08 1101190258"
      ]
    },
    {
      "cell_type": "code",
      "metadata": {
        "colab": {
          "base_uri": "https://localhost:8080/"
        },
        "id": "0InODgpmLf8w",
        "outputId": "82c734c4-355e-4eb9-a8fa-6aacdd002288"
      },
      "source": [
        "#input\r\n",
        "d = int(input(\"Masukkan jarak dalam kilometer: \"))\r\n",
        "fc = int(input(\"Masukkan frekuensi 400 MHz-2000 MHz: \"))\r\n",
        "area = input(\"Masukkan tipe area: \")\r\n",
        "ht = int(input(\"Masukkan tinggi antena pemancar 30-200 meter: \"))\r\n",
        "hr = int(input(\"Masukkan tinggi antena penerima 1-30 meter: \"))"
      ],
      "execution_count": 1,
      "outputs": [
        {
          "output_type": "stream",
          "text": [
            "Masukkan jarak dalam kilometer: 120\n",
            "Masukkan frekuensi 400 MHz-2000 MHz: 500\n",
            "Masukkan tipe area: urban\n",
            "Masukkan tinggi antena pemancar 30-200 meter: 120\n",
            "Masukkan tinggi antena penerima 1-30 meter: 22\n"
          ],
          "name": "stdout"
        }
      ]
    },
    {
      "cell_type": "code",
      "metadata": {
        "id": "cArqS-NGmIQG"
      },
      "source": [
        "import numpy as np"
      ],
      "execution_count": 2,
      "outputs": []
    },
    {
      "cell_type": "code",
      "metadata": {
        "id": "_BOARhn-E8qz"
      },
      "source": [
        "def nilaic1 (frek):\r\n",
        "  if frek in range (400,1500):\r\n",
        "    return 69.55\r\n",
        "\r\n",
        "  elif frek in range (1500,2000):\r\n",
        "    return 46.3"
      ],
      "execution_count": 3,
      "outputs": []
    },
    {
      "cell_type": "code",
      "metadata": {
        "id": "M9UJjMBIGJmd"
      },
      "source": [
        "def nilaic2 (frek):\r\n",
        "  if frek in range (400,1500):\r\n",
        "    return 26.16\r\n",
        "\r\n",
        "  elif frek in range (1500,2000):\r\n",
        "    return 33.9"
      ],
      "execution_count": 4,
      "outputs": []
    },
    {
      "cell_type": "code",
      "metadata": {
        "id": "9ngMqZhrJ0ZI"
      },
      "source": [
        "def nilaicm (area,fc):\r\n",
        "  if area ==  \"urban\":\r\n",
        "    return 0\r\n",
        "  if area == \"suburban\":\r\n",
        "    return -2*(np.log10(fc/28)**2 - 5.4)\r\n",
        "  if area == \"open\":\r\n",
        "    return -4.78*(np.log10(fc))**2 + 18.33*np.log10(fc) - 40.94    "
      ],
      "execution_count": 5,
      "outputs": []
    },
    {
      "cell_type": "code",
      "metadata": {
        "id": "oTKdXvWEH6oj"
      },
      "source": [
        "def nilaiahr(frek):\r\n",
        "  return (1.1*np.log10(frek)-0.7)*hr - (1.56*np.log10(frek)-0.8)"
      ],
      "execution_count": 6,
      "outputs": []
    },
    {
      "cell_type": "code",
      "metadata": {
        "colab": {
          "base_uri": "https://localhost:8080/"
        },
        "id": "OYKfTd_3YNSM",
        "outputId": "2a958843-9d80-4ec2-e50b-9f4be642b137"
      },
      "source": [
        "c1 = nilaic1(fc)\r\n",
        "c2 = nilaic2(fc)\r\n",
        "cm = nilaicm(area,fc)\r\n",
        "ahr = nilaiahr(fc)\r\n",
        "print(c1)\r\n",
        "print(c2)\r\n",
        "print(cm)\r\n",
        "print(ahr)"
      ],
      "execution_count": 7,
      "outputs": [
        {
          "output_type": "stream",
          "text": [
            "69.55\n",
            "26.16\n",
            "0\n",
            "46.50468089816748\n"
          ],
          "name": "stdout"
        }
      ]
    },
    {
      "cell_type": "code",
      "metadata": {
        "id": "_RWlosFdLhlO",
        "colab": {
          "base_uri": "https://localhost:8080/"
        },
        "outputId": "2b5dd7dc-4789-4e86-dcdf-ee4e73b61c4b"
      },
      "source": [
        "pldb = c1 + c2*np.log10(fc) - 13.83*np.log10(ht) - ahr + (44.9-6.55*np.log10(ht))*np.log10(d) + cm\n",
        "print(\"Pathloss adalah: \" , pldb , \" dB\")"
      ],
      "execution_count": 8,
      "outputs": [
        {
          "output_type": "stream",
          "text": [
            "Pathloss adalah:  129.93492074681166  dB\n"
          ],
          "name": "stdout"
        }
      ]
    }
  ]
}